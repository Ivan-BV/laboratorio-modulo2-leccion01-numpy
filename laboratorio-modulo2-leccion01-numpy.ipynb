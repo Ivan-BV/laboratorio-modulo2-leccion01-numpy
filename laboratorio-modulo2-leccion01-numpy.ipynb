{
 "cells": [
  {
   "cell_type": "markdown",
   "id": "6db588db",
   "metadata": {},
   "source": [
    "<div style=\"text-align: center;\">\n",
    "  <img src=\"https://github.com/Hack-io-Data/Imagenes/blob/main/01-LogosHackio/logo_naranja@4x.png?raw=true\" alt=\"esquema\" />\n",
    "</div>"
   ]
  },
  {
   "cell_type": "markdown",
   "id": "11308d6c",
   "metadata": {},
   "source": [
    "\n",
    "# Laboratorio de NumPy"
   ]
  },
  {
   "cell_type": "markdown",
   "id": "a19d4596",
   "metadata": {},
   "source": [
    "#### Ejercicio 1 - Crea un array de 1D con los números del 0 al 9."
   ]
  },
  {
   "cell_type": "code",
   "execution_count": 2,
   "id": "9d4e1d42",
   "metadata": {},
   "outputs": [
    {
     "data": {
      "text/plain": [
       "array([0, 1, 2, 3, 4, 5, 6, 7, 8, 9])"
      ]
     },
     "execution_count": 2,
     "metadata": {},
     "output_type": "execute_result"
    }
   ],
   "source": [
    "import numpy as np\n",
    "\n",
    "array_unidimensional = np.arange(0,10)\n",
    "array_unidimensional"
   ]
  },
  {
   "cell_type": "markdown",
   "id": "f4a41f16",
   "metadata": {},
   "source": [
    "#### Ejercicio 2 - Convierte un array 1D en un array 2D con 2 filas y 5 columnas."
   ]
  },
  {
   "cell_type": "code",
   "execution_count": 3,
   "id": "3d7cef3c",
   "metadata": {},
   "outputs": [
    {
     "data": {
      "text/plain": [
       "array([[0, 1, 2, 3, 4],\n",
       "       [5, 6, 7, 8, 9]])"
      ]
     },
     "execution_count": 3,
     "metadata": {},
     "output_type": "execute_result"
    }
   ],
   "source": [
    "array_unidimensional.reshape(2,5)"
   ]
  },
  {
   "cell_type": "markdown",
   "id": "86bb8999",
   "metadata": {},
   "source": [
    "#### Ejercicio 3 - Encuentra los índices de los elementos con valor distinto de 0 en el siguiente array: [0, 2, 0, 3, 0, 4, 0]."
   ]
  },
  {
   "cell_type": "code",
   "execution_count": 4,
   "id": "d1fcfca4",
   "metadata": {},
   "outputs": [
    {
     "data": {
      "text/plain": [
       "(array([1, 3, 5]),)"
      ]
     },
     "execution_count": 4,
     "metadata": {},
     "output_type": "execute_result"
    }
   ],
   "source": [
    "array_unidimensional = np.array([0, 2, 0, 3, 0, 4, 0])\n",
    "np.where(array_unidimensional != 0)"
   ]
  },
  {
   "cell_type": "markdown",
   "id": "1c548419",
   "metadata": {},
   "source": [
    "#### Ejercicio 4 - Crea un array 3x3 con valores aleatorios entre 0 y 1."
   ]
  },
  {
   "cell_type": "code",
   "execution_count": 5,
   "id": "e1d4f19f",
   "metadata": {},
   "outputs": [
    {
     "data": {
      "text/plain": [
       "array([[0, 0, 0],\n",
       "       [0, 1, 0],\n",
       "       [0, 0, 0]], dtype=int32)"
      ]
     },
     "execution_count": 5,
     "metadata": {},
     "output_type": "execute_result"
    }
   ],
   "source": [
    "array_tridimensional = np.random.randint(0, 2, (3, 3))\n",
    "array_tridimensional"
   ]
  },
  {
   "cell_type": "markdown",
   "id": "aee82811",
   "metadata": {},
   "source": [
    "#### Ejercicio 5 - Crea un array de 10 números aleatorios y encuentra el valor máximo y mínimo."
   ]
  },
  {
   "cell_type": "code",
   "execution_count": 6,
   "id": "81fea76e",
   "metadata": {},
   "outputs": [
    {
     "name": "stdout",
     "output_type": "stream",
     "text": [
      "El valor mínimo es: 0.11096240679539848\n",
      "El valor máximo es: 0.9835127475818444\n"
     ]
    }
   ],
   "source": [
    "array = np.random.random(10)\n",
    "print(f\"El valor mínimo es: {array.min()}\")\n",
    "print(f\"El valor máximo es: {array.max()}\")"
   ]
  },
  {
   "cell_type": "markdown",
   "id": "6559375b",
   "metadata": {},
   "source": [
    "#### Ejercicio 6 - Crea un array de una dimensión e inviértelo. "
   ]
  },
  {
   "cell_type": "code",
   "execution_count": 7,
   "id": "31385db0",
   "metadata": {},
   "outputs": [
    {
     "data": {
      "text/plain": [
       "array(6)"
      ]
     },
     "execution_count": 7,
     "metadata": {},
     "output_type": "execute_result"
    }
   ],
   "source": [
    "array = np.random.randint(10)\n",
    "np.transpose(array)"
   ]
  },
  {
   "cell_type": "markdown",
   "id": "4457f046",
   "metadata": {},
   "source": [
    "\n",
    "#### Ejercicio 6 - Genera un array tridimensional de dimensiones (2, 3, 4) con valores enteros del 1 al 24.\n",
    "\n",
    "- Selecciona el primer `15` del array.\n",
    "\n",
    "- Selecciona todos los elementos del primer array. \n",
    "\n",
    "- Selecciona la última fila del último array\n"
   ]
  },
  {
   "cell_type": "code",
   "execution_count": 8,
   "id": "3cab04c9",
   "metadata": {},
   "outputs": [
    {
     "name": "stdout",
     "output_type": "stream",
     "text": [
      "Array generado:\n",
      "[[[ 4 13  9 13]\n",
      "  [ 6  5  6 17]\n",
      "  [15 10 18 10]]\n",
      "\n",
      " [[ 4 20 22 19]\n",
      "  [10  8 13  8]\n",
      "  [12 19  1  8]]]\n",
      "\n",
      "Primer 15 del array: 15\n",
      "\n",
      "Todos los elementos del primer array: [[ 4 13  9 13]\n",
      " [ 6  5  6 17]\n",
      " [15 10 18 10]]\n",
      "\n",
      "Última fila del último array: [12 19  1  8]\n",
      "\n"
     ]
    }
   ],
   "source": [
    "array_tridimensional = np.random.randint(1, 25, (2,3,4))\n",
    "print(f\"Array generado:\\n{array_tridimensional}\\n\")\n",
    "print(f\"Primer 15 del array: {array_tridimensional[array_tridimensional == 15][0]}\\n\")\n",
    "print(f\"Todos los elementos del primer array: {array_tridimensional[0]}\\n\")\n",
    "print(f\"Última fila del último array: {array_tridimensional[-1][-1]}\\n\")"
   ]
  },
  {
   "cell_type": "markdown",
   "id": "681b7e4e",
   "metadata": {},
   "source": [
    "\n",
    "#### Ejercicio 7 - Genera un array tridimensional de dimensiones (3, 2, 5) con valores enteros del 1 al 30.\n",
    "\n",
    "- Selecciona el subarray que contiene los dos primeros elementos de cada fila del primer array.\n",
    "\n",
    "- Selecciona el subarray que contiene todas las filas de los dos últimos arrays.\n"
   ]
  },
  {
   "cell_type": "code",
   "execution_count": 9,
   "id": "b008a9aa",
   "metadata": {},
   "outputs": [
    {
     "name": "stdout",
     "output_type": "stream",
     "text": [
      "Array generado:\n",
      "[[[14 27  3 11 15]\n",
      "  [24  7 30  4 30]]\n",
      "\n",
      " [[14 25 17  1  9]\n",
      "  [ 3 19 14 23  6]]\n",
      "\n",
      " [[10 12 23 10 26]\n",
      "  [17 22 16 21 22]]]\n",
      "\n",
      "Los 2 primeros elementos de cada fila: [[[14 27]\n",
      "  [24  7]]\n",
      "\n",
      " [[14 25]\n",
      "  [ 3 19]]\n",
      "\n",
      " [[10 12]\n",
      "  [17 22]]]\n",
      "\n",
      "Todas las filas de los 2 ultimos arrays: [[[14 25 17  1  9]\n",
      "  [ 3 19 14 23  6]]\n",
      "\n",
      " [[10 12 23 10 26]\n",
      "  [17 22 16 21 22]]]\n",
      "\n"
     ]
    }
   ],
   "source": [
    "array_tridimensional = np.random.randint(1, 31, (3,2,5))\n",
    "print(f\"Array generado:\\n{array_tridimensional}\\n\")\n",
    "print(f\"Los 2 primeros elementos de cada fila: {array_tridimensional[:,:,0:2]}\\n\")\n",
    "print(f\"Todas las filas de los 2 ultimos arrays: {array_tridimensional[-2:]}\\n\")"
   ]
  },
  {
   "cell_type": "markdown",
   "id": "4fabd9d0",
   "metadata": {},
   "source": [
    "#### Ejercicio 8 - Genera un array tridimensional de dimensiones (4, 3, 2) con valores enteros del 1 al 24.\n",
    "\n",
    "- Cambia todos los elementos de la segunda fila del segundo array por `0`.\n",
    "\n",
    "- Cambia todos los valores del último array a `-1`.\n"
   ]
  },
  {
   "cell_type": "code",
   "execution_count": 10,
   "id": "0ef45b69",
   "metadata": {},
   "outputs": [
    {
     "name": "stdout",
     "output_type": "stream",
     "text": [
      "Array generado:\n",
      "[[[ 9  4]\n",
      "  [18  8]\n",
      "  [17  8]]\n",
      "\n",
      " [[ 9 10]\n",
      "  [14 19]\n",
      "  [ 9 12]]\n",
      "\n",
      " [[16  1]\n",
      "  [ 6  3]\n",
      "  [ 1  7]]\n",
      "\n",
      " [[13 11]\n",
      "  [11 12]\n",
      "  [15 20]]]\n",
      "\n",
      "Cambiar todos los elementos de la 2ª fila del segundo array por 0:\n",
      " [0 0]\n",
      "\n",
      "Todos los valores del último array a -1:\n",
      " [[-1 -1]\n",
      " [-1 -1]\n",
      " [-1 -1]]\n",
      "\n"
     ]
    }
   ],
   "source": [
    "array_tridimensional = np.random.randint(1, 25, (4,3,2))\n",
    "print(f\"Array generado:\\n{array_tridimensional}\\n\")\n",
    "array_tridimensional[1,1,:] = np.zeros_like(array_tridimensional[1,1,:])\n",
    "print(f\"Cambiar todos los elementos de la 2ª fila del segundo array por 0:\\n {array_tridimensional[1,1,:]}\\n\")\n",
    "array_tridimensional[-1,:] = np.ones_like(array_tridimensional[-1,:])*-1\n",
    "print(f\"Todos los valores del último array a -1:\\n {array_tridimensional[-1]}\\n\")"
   ]
  },
  {
   "cell_type": "markdown",
   "id": "c60bc3bb",
   "metadata": {},
   "source": [
    "\n",
    "#### Ejercicio 9 - Genera un array tridimensional de dimensiones (2, 4, 3) con valores enteros del -10 al 13.\n",
    "\n",
    "- Selecciona todos los elementos mayores a `5`.\n",
    "\n",
    "- Reemplaza todos los elementos negativos por `0`.\n"
   ]
  },
  {
   "cell_type": "code",
   "execution_count": 11,
   "id": "28bf9232",
   "metadata": {},
   "outputs": [
    {
     "name": "stdout",
     "output_type": "stream",
     "text": [
      "Array generado:\n",
      "[[[-2  2 -4]\n",
      "  [ 4  6 -4]\n",
      "  [11 13 13]\n",
      "  [ 8  9  2]]\n",
      "\n",
      " [[10 10  8]\n",
      "  [ 7 -4  8]\n",
      "  [ 2 -6 -3]\n",
      "  [ 2  3 -2]]]\n",
      "\n",
      "Todos los elementos mayores a 5:\n",
      " [ 6 11 13 13  8  9 10 10  8  7  8]\n",
      "\n",
      "Reemplaza todos los elementos negativos por 0:\n",
      " [[[ 0  2  0]\n",
      "  [ 4  6  0]\n",
      "  [11 13 13]\n",
      "  [ 8  9  2]]\n",
      "\n",
      " [[10 10  8]\n",
      "  [ 7  0  8]\n",
      "  [ 2  0  0]\n",
      "  [ 2  3  0]]]\n",
      "\n"
     ]
    }
   ],
   "source": [
    "array_tridimensional = np.random.randint(-10, 14, (2,4,3))\n",
    "print(f\"Array generado:\\n{array_tridimensional}\\n\")\n",
    "print(f\"Todos los elementos mayores a 5:\\n {array_tridimensional[array_tridimensional > 5]}\\n\")\n",
    "array_tridimensional[array_tridimensional < 0] = 0\n",
    "print(f\"Reemplaza todos los elementos negativos por 0:\\n {array_tridimensional}\\n\")"
   ]
  },
  {
   "cell_type": "markdown",
   "id": "ab38a3be",
   "metadata": {},
   "source": [
    "#### Ejercicio 10 - Genera un array tridimensional de dimensiones (3, 3, 3) con valores enteros del 1 al 27.\n",
    "\n",
    "- Selecciona el subarray del segundo array que contenga solo las dos primeras columnas.\n",
    "\n",
    "- Selecciona todos los elementos del tercer array que sean mayores que `20`.\n"
   ]
  },
  {
   "cell_type": "code",
   "execution_count": 12,
   "id": "78c979cf",
   "metadata": {},
   "outputs": [
    {
     "name": "stdout",
     "output_type": "stream",
     "text": [
      "Array generado:\n",
      "[[[21  3 18]\n",
      "  [21  3 18]\n",
      "  [18 24 18]]\n",
      "\n",
      " [[25 24 16]\n",
      "  [10  6 11]\n",
      "  [ 5 19 13]]\n",
      "\n",
      " [[17 18 17]\n",
      "  [17 11  4]\n",
      "  [ 5 27 17]]]\n",
      "\n",
      "Subarray del segundo array que contenga solo las dos primeras columnas:\n",
      " [25 24]\n",
      "\n",
      "Selecciona todos los elementos del tercer array que son mayores que 20:\n",
      " [27]\n",
      "\n"
     ]
    }
   ],
   "source": [
    "array_tridimensional = np.random.randint(1, 28, (3,3,3))\n",
    "print(f\"Array generado:\\n{array_tridimensional}\\n\")\n",
    "print(f\"Subarray del segundo array que contenga solo las dos primeras columnas:\\n {array_tridimensional[1,:,:2][0]}\\n\")\n",
    "array_tridimensional[array_tridimensional < 0] = 0\n",
    "print(f\"Selecciona todos los elementos del tercer array que son mayores que 20:\\n {array_tridimensional[-1][array_tridimensional[2, :,:]>20]}\\n\")"
   ]
  },
  {
   "cell_type": "markdown",
   "id": "f1a00156",
   "metadata": {},
   "source": [
    "#### Ejercicio 11 - Crea un array de 10 números aleatorios y reemplaza los valores máximos y mínimos por 0."
   ]
  },
  {
   "cell_type": "code",
   "execution_count": 13,
   "id": "990fa526",
   "metadata": {},
   "outputs": [
    {
     "name": "stdout",
     "output_type": "stream",
     "text": [
      "[15  3  3 13 11 17  7  2 19 10]\n",
      "[15  3  3 13 11 17  7  0  0 10]\n"
     ]
    }
   ],
   "source": [
    "array = np.random.randint(1, 20, 10)\n",
    "print(array)\n",
    "indice_max = np.where(array == array.max())\n",
    "indice_min = np.where(array == array.min())\n",
    "array[indice_max] = 0\n",
    "array[indice_min] = 0\n",
    "print(array)"
   ]
  },
  {
   "cell_type": "markdown",
   "id": "781fafd0",
   "metadata": {},
   "source": [
    "#### Ejercicio 12 - Genera un array de 15 números aleatorios enteros entre 1 y 100 y reordénalo en orden ascendente."
   ]
  },
  {
   "cell_type": "code",
   "execution_count": 14,
   "id": "caa4fd47",
   "metadata": {},
   "outputs": [
    {
     "name": "stdout",
     "output_type": "stream",
     "text": [
      "[ 9  9 24 33 34 44 49 59 61 67 75 78 78 84 86]\n"
     ]
    }
   ],
   "source": [
    "array = np.random.randint(1, 100, 15)\n",
    "print(np.sort(array))"
   ]
  },
  {
   "cell_type": "markdown",
   "id": "45f10c3e",
   "metadata": {},
   "source": [
    "#### Ejercicio 11 - Calcula la suma de los elementos a lo largo de las filas y columnas en una matriz 4x4."
   ]
  },
  {
   "cell_type": "code",
   "execution_count": 15,
   "id": "90220788",
   "metadata": {},
   "outputs": [
    {
     "name": "stdout",
     "output_type": "stream",
     "text": [
      "[[7 4 3 6]\n",
      " [3 8 6 8]\n",
      " [2 6 7 3]\n",
      " [2 6 4 8]]\n",
      "Suma filas: [20 25 18 20]\n",
      "Suma columnas: [14 24 20 25]\n"
     ]
    }
   ],
   "source": [
    "array = np.random.randint(1, 10, (4,4))\n",
    "print(array)\n",
    "print(f\"Suma filas: {np.sum(array,1)}\")\n",
    "print(f\"Suma columnas: {np.sum(array,0)}\")"
   ]
  },
  {
   "cell_type": "markdown",
   "id": "69b9751a",
   "metadata": {},
   "source": [
    "#### Ejercicio 12 - Crea una matriz de 5x5 con valores en el borde igual a 1 y en el interior igual a 0."
   ]
  },
  {
   "cell_type": "code",
   "execution_count": 16,
   "id": "eca81323",
   "metadata": {},
   "outputs": [
    {
     "name": "stdout",
     "output_type": "stream",
     "text": [
      "[[1 1 1 1 1]\n",
      " [1 0 0 0 1]\n",
      " [1 0 0 0 1]\n",
      " [1 0 0 0 1]\n",
      " [1 1 1 1 1]]\n"
     ]
    }
   ],
   "source": [
    "array = np.ones((5, 5), dtype=int)\n",
    "array[1:-1, 1:-1] = 0\n",
    "print(array)"
   ]
  },
  {
   "cell_type": "markdown",
   "id": "1ea8068d",
   "metadata": {},
   "source": [
    "#### Ejercicio 13 - Calcula la media y la desviación estándar de un array de 10 números aleatorios."
   ]
  },
  {
   "cell_type": "code",
   "execution_count": 17,
   "id": "05dd579d",
   "metadata": {},
   "outputs": [
    {
     "name": "stdout",
     "output_type": "stream",
     "text": [
      "La media es: 5.7\n",
      "La desviación estandar es: 2.4919871588754225\n"
     ]
    }
   ],
   "source": [
    "array = np.random.randint(1, 10, 10)\n",
    "media = np.mean(array)\n",
    "desviacion_estandar = np.std(array)\n",
    "print(\"La media es:\", media)\n",
    "print(\"La desviación estandar es:\", desviacion_estandar)"
   ]
  },
  {
   "cell_type": "markdown",
   "id": "6add6669",
   "metadata": {},
   "source": [
    "#### Ejercicio 14 - Genera un array tridimensional de dimensiones (2, 3, 4) con valores enteros del 1 al 24.\n",
    "\n",
    "- Transpón el array para intercambiar los ejes de la forma (2, 3, 4) a (4, 3, 2).\n",
    "\n",
    "- Observa cómo cambian las posiciones de los elementos y sus índices después de la transposición. Explica en una celda de markdown que es lo que ha pasado. \n"
   ]
  },
  {
   "cell_type": "code",
   "execution_count": 18,
   "id": "ae98aca5",
   "metadata": {},
   "outputs": [
    {
     "name": "stdout",
     "output_type": "stream",
     "text": [
      "[[[24 18  9 23]\n",
      "  [16 18 20  6]\n",
      "  [17  3 16  3]]\n",
      "\n",
      " [[ 6  7  4 10]\n",
      "  [16  2 10 24]\n",
      "  [ 9 10 20 22]]]\n",
      "\n",
      " [[[24  6]\n",
      "  [16 16]\n",
      "  [17  9]]\n",
      "\n",
      " [[18  7]\n",
      "  [18  2]\n",
      "  [ 3 10]]\n",
      "\n",
      " [[ 9  4]\n",
      "  [20 10]\n",
      "  [16 20]]\n",
      "\n",
      " [[23 10]\n",
      "  [ 6 24]\n",
      "  [ 3 22]]]\n"
     ]
    }
   ],
   "source": [
    "array_tridimensional = np.random.randint(1, 25, (2, 3, 4))\n",
    "print(array_tridimensional)\n",
    "array_tridimensional = np.transpose(array_tridimensional)\n",
    "print(\"\\n\",array_tridimensional)"
   ]
  },
  {
   "cell_type": "markdown",
   "id": "f85f0c23",
   "metadata": {},
   "source": [
    "Respuesta al ejercicio 14.b:\n",
    "\n",
    "Lo que ha ocurrido es que al transponer se ha cambiado las **columnas** por el **número de arrays**, las **filas se mantienen** y los **arrays** que habían por las **columnas**"
   ]
  },
  {
   "cell_type": "markdown",
   "id": "1e32b5e6",
   "metadata": {},
   "source": [
    "#### Ejercicio 15 - Genera un array tridimensional de dimensiones (3, 4, 2) con valores enteros del 1 al 24.\n",
    "\n",
    "- Transpón el array para intercambiar el primer y segundo eje, de manera que la nueva forma del array sea (4, 3, 2).\n"
   ]
  },
  {
   "cell_type": "code",
   "execution_count": 19,
   "id": "0146fdd6",
   "metadata": {},
   "outputs": [
    {
     "data": {
      "text/plain": [
       "array([[[ 8,  5],\n",
       "        [ 3, 11],\n",
       "        [ 5,  8]],\n",
       "\n",
       "       [[24, 24],\n",
       "        [16, 12],\n",
       "        [12, 12]],\n",
       "\n",
       "       [[ 1, 16],\n",
       "        [18, 10],\n",
       "        [17, 17]],\n",
       "\n",
       "       [[ 8,  2],\n",
       "        [15, 19],\n",
       "        [15,  2]]], dtype=int32)"
      ]
     },
     "execution_count": 19,
     "metadata": {},
     "output_type": "execute_result"
    }
   ],
   "source": [
    "array_tridimensional = np.random.randint(1, 25, (3, 4, 2))\n",
    "array_tridimensional = np.transpose(array_tridimensional, (1, 0, 2))\n",
    "array_tridimensional"
   ]
  },
  {
   "cell_type": "markdown",
   "id": "fcf92586",
   "metadata": {},
   "source": [
    "#### Ejercicio 16 - Genera un array tridimensional de dimensiones (3, 2, 4) con valores enteros del 1 al 24.\n",
    "\n",
    "- Realiza una rotación completa de los ejes para convertir la forma original (3, 2, 4) en (4, 3, 2).\n"
   ]
  },
  {
   "cell_type": "code",
   "execution_count": 20,
   "id": "dd2c7f27",
   "metadata": {},
   "outputs": [
    {
     "data": {
      "text/plain": [
       "array([[[10, 12],\n",
       "        [18, 22],\n",
       "        [ 1,  7]],\n",
       "\n",
       "       [[ 5,  9],\n",
       "        [23, 12],\n",
       "        [18,  6]],\n",
       "\n",
       "       [[ 1,  3],\n",
       "        [ 8,  5],\n",
       "        [13, 12]],\n",
       "\n",
       "       [[19, 23],\n",
       "        [17, 14],\n",
       "        [18, 24]]], dtype=int32)"
      ]
     },
     "execution_count": 20,
     "metadata": {},
     "output_type": "execute_result"
    }
   ],
   "source": [
    "array_tridimensional = np.random.randint(1, 25, (3, 2, 4))\n",
    "array_tridimensional = np.swapaxes(array_tridimensional, 0, 2)\n",
    "array_tridimensional = np.swapaxes(array_tridimensional, 1, 2)\n",
    "array_tridimensional"
   ]
  },
  {
   "cell_type": "markdown",
   "id": "1795e11f",
   "metadata": {},
   "source": [
    "#### Ejercicio 17 - Manipulación de Arrays en 3D\n",
    "\n",
    "- Crea un array tridimensional con dimensiones (3, 4, 5) cuyos elementos sean números enteros aleatorios entre -10 y 10.\n",
    "\n",
    "- Crea un array vacío con la misma forma y dimensiones que el array creado anteriormente. Luego, reemplaza los valores de la matriz vacía basada en los valores del primer array bajo las siguientes condiciones:\n",
    "\n",
    "   - Si el valor es igual a la mediana, se reemplaza por `\"M\"`.\n",
    "\n",
    "   - Si el valor es mayor que la mediana, se reemplaza por `\"X\"`.\n",
    "\n",
    "   - Si el valor es menor que la mediana, se reemplaza por `\"Y\"`.\n",
    "\n",
    "   - Si el valor es igual al máximo, se reemplaza por `\"MAX\"`.\n",
    "\n",
    "   - Si el valor es igual al mínimo, se reemplaza por `\"MIN\"`.\n"
   ]
  },
  {
   "cell_type": "code",
   "execution_count": 107,
   "id": "d309b397",
   "metadata": {},
   "outputs": [
    {
     "ename": "TypeError",
     "evalue": "the resolved dtypes are not compatible with add.reduce. Resolved (dtype('<U1'), dtype('<U1'), dtype('<U2'))",
     "output_type": "error",
     "traceback": [
      "\u001b[1;31m---------------------------------------------------------------------------\u001b[0m",
      "\u001b[1;31mTypeError\u001b[0m                                 Traceback (most recent call last)",
      "Cell \u001b[1;32mIn[107], line 3\u001b[0m\n\u001b[0;32m      1\u001b[0m array_tridimensional \u001b[38;5;241m=\u001b[39m np\u001b[38;5;241m.\u001b[39mrandom\u001b[38;5;241m.\u001b[39mrandint(\u001b[38;5;241m-\u001b[39m\u001b[38;5;241m10\u001b[39m, \u001b[38;5;241m11\u001b[39m, (\u001b[38;5;241m3\u001b[39m, \u001b[38;5;241m4\u001b[39m, \u001b[38;5;241m5\u001b[39m))\n\u001b[0;32m      2\u001b[0m array \u001b[38;5;241m=\u001b[39m np\u001b[38;5;241m.\u001b[39mempty(array_tridimensional\u001b[38;5;241m.\u001b[39mshape, dtype\u001b[38;5;241m=\u001b[39m\u001b[38;5;28mstr\u001b[39m)\n\u001b[1;32m----> 3\u001b[0m indice_media \u001b[38;5;241m=\u001b[39m np\u001b[38;5;241m.\u001b[39mwhere(array \u001b[38;5;241m==\u001b[39m \u001b[43marray\u001b[49m\u001b[38;5;241;43m.\u001b[39;49m\u001b[43mmean\u001b[49m\u001b[43m(\u001b[49m\u001b[43m)\u001b[49m)\n\u001b[0;32m      4\u001b[0m array[indice_media] \u001b[38;5;241m=\u001b[39m \u001b[38;5;124m\"\u001b[39m\u001b[38;5;124mM\u001b[39m\u001b[38;5;124m\"\u001b[39m\n",
      "File \u001b[1;32mc:\\Users\\ivigo\\AppData\\Local\\Programs\\Python\\Python312\\Lib\\site-packages\\numpy\\_core\\_methods.py:136\u001b[0m, in \u001b[0;36m_mean\u001b[1;34m(a, axis, dtype, out, keepdims, where)\u001b[0m\n\u001b[0;32m    133\u001b[0m         dtype \u001b[38;5;241m=\u001b[39m mu\u001b[38;5;241m.\u001b[39mdtype(\u001b[38;5;124m'\u001b[39m\u001b[38;5;124mf4\u001b[39m\u001b[38;5;124m'\u001b[39m)\n\u001b[0;32m    134\u001b[0m         is_float16_result \u001b[38;5;241m=\u001b[39m \u001b[38;5;28;01mTrue\u001b[39;00m\n\u001b[1;32m--> 136\u001b[0m ret \u001b[38;5;241m=\u001b[39m \u001b[43mumr_sum\u001b[49m\u001b[43m(\u001b[49m\u001b[43marr\u001b[49m\u001b[43m,\u001b[49m\u001b[43m \u001b[49m\u001b[43maxis\u001b[49m\u001b[43m,\u001b[49m\u001b[43m \u001b[49m\u001b[43mdtype\u001b[49m\u001b[43m,\u001b[49m\u001b[43m \u001b[49m\u001b[43mout\u001b[49m\u001b[43m,\u001b[49m\u001b[43m \u001b[49m\u001b[43mkeepdims\u001b[49m\u001b[43m,\u001b[49m\u001b[43m \u001b[49m\u001b[43mwhere\u001b[49m\u001b[38;5;241;43m=\u001b[39;49m\u001b[43mwhere\u001b[49m\u001b[43m)\u001b[49m\n\u001b[0;32m    137\u001b[0m \u001b[38;5;28;01mif\u001b[39;00m \u001b[38;5;28misinstance\u001b[39m(ret, mu\u001b[38;5;241m.\u001b[39mndarray):\n\u001b[0;32m    138\u001b[0m     \u001b[38;5;28;01mwith\u001b[39;00m _no_nep50_warning():\n",
      "\u001b[1;31mTypeError\u001b[0m: the resolved dtypes are not compatible with add.reduce. Resolved (dtype('<U1'), dtype('<U1'), dtype('<U2'))"
     ]
    }
   ],
   "source": [
    "array_tridimensional = np.random.randint(-10, 11, (3, 4, 5))\n",
    "array = np.empty(array_tridimensional.shape, dtype=str)\n",
    "indice_media = np.where(array == array.mean())\n",
    "array[indice_media] = \"M\""
   ]
  },
  {
   "cell_type": "markdown",
   "id": "83794704",
   "metadata": {},
   "source": [
    "#### Ejercicio 18 - Verificación de Filas y Columnas Iguales\n",
    "\n",
    "Crea un array bidimensional de dimensiones 4x4, escribe un código para determinar si alguna fila es exactamente igual a alguna columna.\n",
    "\n",
    "**Reglas:**\n",
    "\n",
    "- No puedes usar funciones predefinidas de NumPy para comparar filas y columnas (`np.array_equal`, etc.).\n",
    "\n",
    "- Debes resolverlo con estructuras básicas de Python (bucles, condicionales, etc.).\n",
    "\n",
    "- Debes revisar si hay al menos una fila que coincida exactamente con alguna columna.\n",
    "\n",
    "**Pistas**:\n",
    "\n",
    "- Puedes recorrer cada fila y cada columna de la matriz usando bucles.\n",
    "\n",
    "- Para comparar una fila con una columna, puedes hacerlo elemento por elemento."
   ]
  },
  {
   "cell_type": "code",
   "execution_count": 106,
   "id": "afd51c60",
   "metadata": {},
   "outputs": [
    {
     "name": "stdout",
     "output_type": "stream",
     "text": [
      "[[2 3 2 2]\n",
      " [2 2 2 2]\n",
      " [2 3 2 2]\n",
      " [3 2 2 3]] \n",
      "\n",
      "La fila 2 es igual a la columna 3\n"
     ]
    }
   ],
   "source": [
    "array = np.random.randint(1, 4, (4,4))\n",
    "print(array, \"\\n\")\n",
    "\n",
    "iguales = False\n",
    "coincidencia = False\n",
    "for n in range(array.shape[0]):\n",
    "    for i in range(array.shape[1]):\n",
    "        iguales = True\n",
    "        for j in range(array.shape[1]):\n",
    "            if array[n][j] != array[j][i]:\n",
    "                iguales = False\n",
    "                break\n",
    "        if iguales == True:\n",
    "            coincidencia = True\n",
    "            print(f\"La fila {i} es igual a la columna {j}\")\n",
    "if coincidencia == False:\n",
    "    print(f\"No hay ninguna fila igual a la columna\")"
   ]
  }
 ],
 "metadata": {
  "kernelspec": {
   "display_name": "Python 3",
   "language": "python",
   "name": "python3"
  },
  "language_info": {
   "codemirror_mode": {
    "name": "ipython",
    "version": 3
   },
   "file_extension": ".py",
   "mimetype": "text/x-python",
   "name": "python",
   "nbconvert_exporter": "python",
   "pygments_lexer": "ipython3",
   "version": "3.12.6"
  }
 },
 "nbformat": 4,
 "nbformat_minor": 5
}
